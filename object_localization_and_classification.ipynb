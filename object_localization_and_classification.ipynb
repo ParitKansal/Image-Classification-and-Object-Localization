{
  "nbformat": 4,
  "nbformat_minor": 0,
  "metadata": {
    "accelerator": "TPU",
    "colab": {
      "provenance": [],
      "gpuType": "V28",
      "toc_visible": true,
      "include_colab_link": true
    },
    "kernelspec": {
      "display_name": "Python 3",
      "name": "python3"
    },
    "language_info": {
      "codemirror_mode": {
        "name": "ipython",
        "version": 3
      },
      "file_extension": ".py",
      "mimetype": "text/x-python",
      "name": "python",
      "nbconvert_exporter": "python",
      "pygments_lexer": "ipython3",
      "version": "3.7.4"
    }
  },
  "cells": [
    {
      "cell_type": "markdown",
      "metadata": {
        "id": "view-in-github",
        "colab_type": "text"
      },
      "source": [
        "<a href=\"https://colab.research.google.com/github/ParitKansal/Image-Classification-and-Object-Localization/blob/main/object_localization_and_classification.ipynb\" target=\"_parent\"><img src=\"https://colab.research.google.com/assets/colab-badge.svg\" alt=\"Open In Colab\"/></a>"
      ]
    },
    {
      "cell_type": "markdown",
      "metadata": {
        "id": "KsjDCIat6_UK"
      },
      "source": [
        "# Image Classification and Object Localization\n",
        "\n",
        "In this lab, We'll build a CNN from scratch to:\n",
        "- classify the main subject in an image\n",
        "- localize it by drawing bounding boxes around it.\n",
        "\n",
        "We'll use the [MNIST](http://yann.lecun.com/exdb/mnist/) dataset to synthesize a custom dataset for the task:\n",
        "- Place each \"digit\" image on a black canvas of width 75 x 75 at random locations.\n",
        "- Calculate the corresponding bounding boxes for those \"digits\".\n",
        "\n",
        "The bounding box prediction can be modelled as a \"regression\" task, which means that the model will predict a numeric value (as opposed to a category)."
      ]
    },
    {
      "cell_type": "markdown",
      "metadata": {
        "id": "qpiJj8ym0v0-"
      },
      "source": [
        "## Imports"
      ]
    },
    {
      "cell_type": "code",
      "metadata": {
        "id": "AoilhmYe1b5t",
        "colab": {
          "base_uri": "https://localhost:8080/"
        },
        "outputId": "d1efefbf-015f-47df-ab75-af86cf5e298f"
      },
      "source": [
        "import os, re, time, json\n",
        "import PIL.Image, PIL.ImageFont, PIL.ImageDraw\n",
        "import numpy as np\n",
        "try:\n",
        "  # %tensorflow_version only exists in Colab.\n",
        "  %tensorflow_version 2.x\n",
        "except Exception:\n",
        "  pass\n",
        "import tensorflow as tf\n",
        "from matplotlib import pyplot as plt\n",
        "import tensorflow_datasets as tfds\n",
        "\n",
        "print(\"Tensorflow version \" + tf.__version__)"
      ],
      "execution_count": null,
      "outputs": [
        {
          "output_type": "stream",
          "name": "stdout",
          "text": [
            "Colab only includes TensorFlow 2.x; %tensorflow_version has no effect.\n",
            "Tensorflow version 2.15.0\n"
          ]
        }
      ]
    },
    {
      "cell_type": "markdown",
      "metadata": {
        "id": "xmoFKEd98MP3"
      },
      "source": [
        "# Visualization Utilities\n",
        "\n",
        "These functions are used to draw bounding boxes around the digits."
      ]
    },
    {
      "cell_type": "code",
      "metadata": {
        "id": "tBjj1Fg-i_lc"
      },
      "source": [
        "#@title Plot Utilities for Bounding Boxes\n",
        "\n",
        "im_width = 75\n",
        "im_height = 75\n",
        "use_normalized_coordinates = True\n",
        "\n",
        "def draw_bounding_boxes_on_image_array(image,\n",
        "                                       boxes,\n",
        "                                       color=[],\n",
        "                                       thickness=1,\n",
        "                                       display_str_list=()):\n",
        "  \"\"\"Draws bounding boxes on image (numpy array).\n",
        "  Args:\n",
        "    image: a numpy array object.\n",
        "    boxes: a 2 dimensional numpy array of [N, 4]: (ymin, xmin, ymax, xmax).\n",
        "           The coordinates are in normalized format between [0, 1].\n",
        "    color: color to draw bounding box. Default is red.\n",
        "    thickness: line thickness. Default value is 4.\n",
        "    display_str_list_list: a list of strings for each bounding box.\n",
        "  Raises:\n",
        "    ValueError: if boxes is not a [N, 4] array\n",
        "  \"\"\"\n",
        "  image_pil = PIL.Image.fromarray(image)\n",
        "  rgbimg = PIL.Image.new(\"RGBA\", image_pil.size)\n",
        "  rgbimg.paste(image_pil)\n",
        "  draw_bounding_boxes_on_image(rgbimg, boxes, color, thickness,\n",
        "                               display_str_list)\n",
        "  return np.array(rgbimg)\n",
        "\n",
        "\n",
        "def draw_bounding_boxes_on_image(image,\n",
        "                                 boxes,\n",
        "                                 color=[],\n",
        "                                 thickness=1,\n",
        "                                 display_str_list=()):\n",
        "  \"\"\"Draws bounding boxes on image.\n",
        "  Args:\n",
        "    image: a PIL.Image object.\n",
        "    boxes: a 2 dimensional numpy array of [N, 4]: (ymin, xmin, ymax, xmax).\n",
        "           The coordinates are in normalized format between [0, 1].\n",
        "    color: color to draw bounding box. Default is red.\n",
        "    thickness: line thickness. Default value is 4.\n",
        "    display_str_list: a list of strings for each bounding box.\n",
        "\n",
        "  Raises:\n",
        "    ValueError: if boxes is not a [N, 4] array\n",
        "  \"\"\"\n",
        "  boxes_shape = boxes.shape\n",
        "  if not boxes_shape:\n",
        "    return\n",
        "  if len(boxes_shape) != 2 or boxes_shape[1] != 4:\n",
        "    raise ValueError('Input must be of size [N, 4]')\n",
        "  for i in range(boxes_shape[0]):\n",
        "    draw_bounding_box_on_image(image, boxes[i, 1], boxes[i, 0], boxes[i, 3],\n",
        "                               boxes[i, 2], color[i], thickness, display_str_list[i])\n",
        "\n",
        "def draw_bounding_box_on_image(image,\n",
        "                               ymin,\n",
        "                               xmin,\n",
        "                               ymax,\n",
        "                               xmax,\n",
        "                               color='red',\n",
        "                               thickness=1,\n",
        "                               display_str=None,\n",
        "                               use_normalized_coordinates=True):\n",
        "  \"\"\"Adds a bounding box to an image.\n",
        "  Bounding box coordinates can be specified in either absolute (pixel) or\n",
        "  normalized coordinates by setting the use_normalized_coordinates argument.\n",
        "  Args:\n",
        "    image: a PIL.Image object.\n",
        "    ymin: ymin of bounding box.\n",
        "    xmin: xmin of bounding box.\n",
        "    ymax: ymax of bounding box.\n",
        "    xmax: xmax of bounding box.\n",
        "    color: color to draw bounding box. Default is red.\n",
        "    thickness: line thickness. Default value is 4.\n",
        "    display_str_list: string to display in box\n",
        "    use_normalized_coordinates: If True (default), treat coordinates\n",
        "      ymin, xmin, ymax, xmax as relative to the image.  Otherwise treat\n",
        "      coordinates as absolute.\n",
        "  \"\"\"\n",
        "  draw = PIL.ImageDraw.Draw(image)\n",
        "  im_width, im_height = image.size\n",
        "  if use_normalized_coordinates:\n",
        "    (left, right, top, bottom) = (xmin * im_width, xmax * im_width,\n",
        "                                  ymin * im_height, ymax * im_height)\n",
        "  else:\n",
        "    (left, right, top, bottom) = (xmin, xmax, ymin, ymax)\n",
        "  draw.line([(left, top), (left, bottom), (right, bottom),\n",
        "             (right, top), (left, top)], width=thickness, fill=color)\n",
        "\n"
      ],
      "execution_count": null,
      "outputs": []
    },
    {
      "cell_type": "markdown",
      "metadata": {
        "id": "USx9tRBF8hWy"
      },
      "source": [
        "These utilities are used to visualize the data and predictions."
      ]
    },
    {
      "cell_type": "code",
      "metadata": {
        "id": "qhdz68Xm3Z4Z"
      },
      "source": [
        "#@title Visualization Utilities\n",
        "\"\"\"\n",
        "This cell contains helper functions used for visualization\n",
        "and downloads only.\n",
        "\n",
        "You can skip reading it, as there is very\n",
        "little Keras or Tensorflow related code here.\n",
        "\"\"\"\n",
        "\n",
        "# Matplotlib config\n",
        "plt.rc('image', cmap='gray')\n",
        "plt.rc('grid', linewidth=0)\n",
        "plt.rc('xtick', top=False, bottom=False, labelsize='large')\n",
        "plt.rc('ytick', left=False, right=False, labelsize='large')\n",
        "plt.rc('axes', facecolor='F8F8F8', titlesize=\"large\", edgecolor='white')\n",
        "plt.rc('text', color='a8151a')\n",
        "plt.rc('figure', facecolor='F0F0F0')# Matplotlib fonts\n",
        "MATPLOTLIB_FONT_DIR = os.path.join(os.path.dirname(plt.__file__), \"mpl-data/fonts/ttf\")\n",
        "\n",
        "# pull a batch from the datasets. This code is not very nice, it gets much better in eager mode (TODO)\n",
        "def dataset_to_numpy_util(training_dataset, validation_dataset, N):\n",
        "\n",
        "  # get one batch from each: 10000 validation digits, N training digits\n",
        "  batch_train_ds = training_dataset.unbatch().batch(N)\n",
        "\n",
        "  # eager execution: loop through datasets normally\n",
        "  if tf.executing_eagerly():\n",
        "    for validation_digits, (validation_labels, validation_bboxes) in validation_dataset:\n",
        "      validation_digits = validation_digits.numpy()\n",
        "      validation_labels = validation_labels.numpy()\n",
        "      validation_bboxes = validation_bboxes.numpy()\n",
        "      break\n",
        "    for training_digits, (training_labels, training_bboxes) in batch_train_ds:\n",
        "      training_digits = training_digits.numpy()\n",
        "      training_labels = training_labels.numpy()\n",
        "      training_bboxes = training_bboxes.numpy()\n",
        "      break\n",
        "\n",
        "  # these were one-hot encoded in the dataset\n",
        "  validation_labels = np.argmax(validation_labels, axis=1)\n",
        "  training_labels = np.argmax(training_labels, axis=1)\n",
        "\n",
        "  return (training_digits, training_labels, training_bboxes,\n",
        "          validation_digits, validation_labels, validation_bboxes)\n",
        "\n",
        "# create digits from local fonts for testing\n",
        "def create_digits_from_local_fonts(n):\n",
        "  font_labels = []\n",
        "  img = PIL.Image.new('LA', (75*n, 75), color = (0,255)) # format 'LA': black in channel 0, alpha in channel 1\n",
        "  font1 = PIL.ImageFont.truetype(os.path.join(MATPLOTLIB_FONT_DIR, 'DejaVuSansMono-Oblique.ttf'), 25)\n",
        "  font2 = PIL.ImageFont.truetype(os.path.join(MATPLOTLIB_FONT_DIR, 'STIXGeneral.ttf'), 25)\n",
        "  d = PIL.ImageDraw.Draw(img)\n",
        "  for i in range(n):\n",
        "    font_labels.append(i%10)\n",
        "    d.text((7+i*75,0 if i<10 else -4), str(i%10), fill=(255,255), font=font1 if i<10 else font2)\n",
        "  font_digits = np.array(img.getdata(), np.float32)[:,0] / 255.0 # black in channel 0, alpha in channel 1 (discarded)\n",
        "  font_digits = np.reshape(np.stack(np.split(np.reshape(font_digits, [75, 75*n]), n, axis=1), axis=0), [n, 75*75])\n",
        "  return font_digits, font_labels\n",
        "\n",
        "\n",
        "# utility to display a row of digits with their predictions\n",
        "def display_digits_with_boxes(digits, predictions, labels, pred_bboxes, bboxes, iou, title):\n",
        "\n",
        "  n = 10\n",
        "\n",
        "  indexes = np.random.choice(len(predictions), size=n)\n",
        "  n_digits = digits[indexes]\n",
        "  n_predictions = predictions[indexes]\n",
        "  n_labels = labels[indexes]\n",
        "\n",
        "  n_iou = []\n",
        "  if len(iou) > 0:\n",
        "    n_iou = iou[indexes]\n",
        "\n",
        "  if (len(pred_bboxes) > 0):\n",
        "    n_pred_bboxes = pred_bboxes[indexes,:]\n",
        "\n",
        "  if (len(bboxes) > 0):\n",
        "    n_bboxes = bboxes[indexes,:]\n",
        "\n",
        "\n",
        "  n_digits = n_digits * 255.0\n",
        "  n_digits = n_digits.reshape(n, 75, 75)\n",
        "  fig = plt.figure(figsize=(20, 4))\n",
        "  plt.title(title)\n",
        "  plt.yticks([])\n",
        "  plt.xticks([])\n",
        "\n",
        "  for i in range(10):\n",
        "    ax = fig.add_subplot(1, 10, i+1)\n",
        "    bboxes_to_plot = []\n",
        "    if (len(pred_bboxes) > i):\n",
        "      bboxes_to_plot.append(n_pred_bboxes[i])\n",
        "\n",
        "    if (len(bboxes) > i):\n",
        "      bboxes_to_plot.append(n_bboxes[i])\n",
        "\n",
        "    img_to_draw = draw_bounding_boxes_on_image_array(image=n_digits[i], boxes=np.asarray(bboxes_to_plot), color=['red', 'green'], display_str_list=[\"true\", \"pred\"])\n",
        "    plt.xlabel(n_predictions[i])\n",
        "    plt.xticks([])\n",
        "    plt.yticks([])\n",
        "\n",
        "    if n_predictions[i] != n_labels[i]:\n",
        "      ax.xaxis.label.set_color('red')\n",
        "\n",
        "\n",
        "\n",
        "    plt.imshow(img_to_draw)\n",
        "\n",
        "    if len(iou) > i :\n",
        "      color = \"black\"\n",
        "      if (n_iou[i][0] < iou_threshold):\n",
        "        color = \"red\"\n",
        "      ax.text(0.2, -0.3, \"iou: %s\" %(n_iou[i][0]), color=color, transform=ax.transAxes)\n",
        "\n",
        "\n",
        "# utility to display training and validation curves\n",
        "def plot_metrics(metric_name, title):\n",
        "  plt.title(title)\n",
        "  plt.plot(history.history[metric_name],color='blue',label=metric_name)\n",
        "  plt.plot(history.history['val_' + metric_name],color='green',label='val_' + metric_name)"
      ],
      "execution_count": null,
      "outputs": []
    },
    {
      "cell_type": "markdown",
      "metadata": {
        "id": "_Ok__0RB-M8S"
      },
      "source": [
        "## Selecting Between Strategies"
      ]
    },
    {
      "cell_type": "markdown",
      "metadata": {
        "id": "R4jujVYWY9-6"
      },
      "source": [
        "### TPU or GPU detection\n",
        "\n",
        "Depending on the hardware available, we'll use different distribution strategies.  For a review on distribution strategies, please check out the second course in this specialization [\"Custom and Distributed Training with TensorFlow\"](https://www.coursera.org/learn/custom-distributed-training-with-tensorflow), week 4, \"Distributed Training\".\n",
        "\n",
        "- If the TPU is available, then we'll be using the TPU Strategy.\n",
        "Otherwise:\n",
        "- If more than one GPU is available, then we'll use the Mirrored Strategy\n",
        "- If one GPU is available or if just the CPU is available, we'll use the default strategy."
      ]
    },
    {
      "cell_type": "code",
      "metadata": {
        "id": "Hd5zB1G7Y9-7",
        "colab": {
          "base_uri": "https://localhost:8080/"
        },
        "outputId": "da8f9220-28cf-489e-c281-56385c00e022"
      },
      "source": [
        "import tensorflow as tf\n",
        "\n",
        "# Detect hardware\n",
        "try:\n",
        "    tpu = tf.distribute.cluster_resolver.TPUClusterResolver()  # TPU detection\n",
        "    print(\"TPU detected\")\n",
        "except ValueError:\n",
        "    tpu = None\n",
        "    gpus = tf.config.experimental.list_logical_devices(\"GPU\")\n",
        "\n",
        "# Select appropriate distribution strategy\n",
        "if tpu:\n",
        "    tf.config.experimental_connect_to_cluster(tpu)\n",
        "    tf.tpu.experimental.initialize_tpu_system(tpu)\n",
        "    strategy = tf.distribute.TPUStrategy(tpu)  # Use non-experimental TPUStrategy\n",
        "    print('Running on TPU')\n",
        "elif len(gpus) > 1:\n",
        "    strategy = tf.distribute.MirroredStrategy([gpu.name for gpu in gpus])\n",
        "    print('Running on multiple GPUs:', [gpu.name for gpu in gpus])\n",
        "elif len(gpus) == 1:\n",
        "    strategy = tf.distribute.get_strategy()  # Default strategy for single GPU\n",
        "    print('Running on single GPU:', gpus[0].name)\n",
        "else:\n",
        "    strategy = tf.distribute.get_strategy()  # Default strategy for CPU\n",
        "    print('Running on CPU')\n",
        "\n",
        "print(\"Number of accelerators:\", strategy.num_replicas_in_sync)"
      ],
      "execution_count": null,
      "outputs": [
        {
          "output_type": "stream",
          "name": "stdout",
          "text": [
            "TPU detected\n",
            "Running on TPU\n",
            "Number of accelerators: 8\n"
          ]
        }
      ]
    },
    {
      "cell_type": "markdown",
      "metadata": {
        "id": "Lvo0t7XVIkWZ"
      },
      "source": [
        "### Parameters\n",
        "\n",
        "The global batch size is the batch size per replica (64 in this case) times the number of replicas in the distribution strategy."
      ]
    },
    {
      "cell_type": "code",
      "metadata": {
        "id": "cCpkS9C_H7Tl"
      },
      "source": [
        "BATCH_SIZE = 64 * strategy.num_replicas_in_sync # Gobal batch size.\n",
        "# The global batch size will be automatically sharded across all\n",
        "# replicas by the tf.data.Dataset API. A single TPU has 8 cores.\n",
        "# The best practice is to scale the batch size by the number of\n",
        "# replicas (cores). The learning rate should be increased as well.\n"
      ],
      "execution_count": null,
      "outputs": []
    },
    {
      "cell_type": "markdown",
      "metadata": {
        "id": "JVkc7nzg-WUy"
      },
      "source": [
        "## Loading and Preprocessing the Dataset\n",
        "\n",
        "Define some helper functions that will pre-process your data:\n",
        "- `read_image_tfds`: randomly overlays the \"digit\" image on top of a larger canvas.\n",
        "- `get_training_dataset`: loads data and splits it to get the training set.\n",
        "- `get_validation_dataset`: loads and splits the data to get the validation set."
      ]
    },
    {
      "cell_type": "code",
      "metadata": {
        "id": "ZE8dgyPC1_6m"
      },
      "source": [
        "\n",
        "'''\n",
        "Transforms each image in dataset by pasting it on a 75x75 canvas at random locations.\n",
        "'''\n",
        "def read_image_tfds(image, label):\n",
        "    xmin = tf.random.uniform((), 0 , 48, dtype=tf.int32)\n",
        "    ymin = tf.random.uniform((), 0 , 48, dtype=tf.int32)\n",
        "    image = tf.reshape(image, (28,28,1,))\n",
        "    image = tf.image.pad_to_bounding_box(image, ymin, xmin, 75, 75)\n",
        "    image = tf.cast(image, tf.float32)/255.0\n",
        "    xmin = tf.cast(xmin, tf.float32)\n",
        "    ymin = tf.cast(ymin, tf.float32)\n",
        "\n",
        "    xmax = (xmin + 28) / 75\n",
        "    ymax = (ymin + 28) / 75\n",
        "    xmin = xmin / 75\n",
        "    ymin = ymin / 75\n",
        "    return image, (tf.one_hot(label, 10), [xmin, ymin, xmax, ymax])\n",
        "\n",
        "'''\n",
        "Loads and maps the training split of the dataset using the map function. Note that we try to load the gcs version since TPU can only work with datasets on Google Cloud Storage.\n",
        "'''\n",
        "def get_training_dataset():\n",
        "\n",
        "      with  strategy.scope():\n",
        "        dataset = tfds.load(\"mnist\", split=\"train\", as_supervised=True, try_gcs=True)\n",
        "        dataset = dataset.map(read_image_tfds, num_parallel_calls=16)\n",
        "        dataset = dataset.shuffle(5000, reshuffle_each_iteration=True)\n",
        "        dataset = dataset.repeat() # Mandatory for Keras for now\n",
        "        dataset = dataset.batch(BATCH_SIZE, drop_remainder=True) # drop_remainder is important on TPU, batch size must be fixed\n",
        "        dataset = dataset.prefetch(-1)  # fetch next batches while training on the current one (-1: autotune prefetch buffer size)\n",
        "      return dataset\n",
        "\n",
        "'''\n",
        "Loads and maps the validation split of the dataset using the map function. Note that we try to load the gcs version since TPU can only work with datasets on Google Cloud Storage.\n",
        "'''\n",
        "def get_validation_dataset():\n",
        "    dataset = tfds.load(\"mnist\", split=\"test\", as_supervised=True, try_gcs=True)\n",
        "    dataset = dataset.map(read_image_tfds, num_parallel_calls=16)\n",
        "\n",
        "    #dataset = dataset.cache() # this small dataset can be entirely cached in RAM\n",
        "    dataset = dataset.batch(10000, drop_remainder=True) # 10000 items in eval dataset, all in one batch\n",
        "    dataset = dataset.repeat() # Mandatory for Keras for now\n",
        "    return dataset\n",
        "\n",
        "# instantiate the datasets\n",
        "with strategy.scope():\n",
        "  training_dataset = get_training_dataset()\n",
        "  validation_dataset = get_validation_dataset()"
      ],
      "execution_count": null,
      "outputs": []
    },
    {
      "cell_type": "markdown",
      "metadata": {
        "id": "_fXo6GuvL3EB"
      },
      "source": [
        "### Visualize Data"
      ]
    },
    {
      "cell_type": "code",
      "metadata": {
        "id": "yZ4tjPKvL2eh",
        "colab": {
          "base_uri": "https://localhost:8080/",
          "height": 684
        },
        "outputId": "cfa703e5-89a4-41bf-a450-6c2fae62121f"
      },
      "source": [
        "(training_digits, training_labels, training_bboxes,\n",
        " validation_digits, validation_labels, validation_bboxes) = dataset_to_numpy_util(training_dataset, validation_dataset, 10)\n",
        "\n",
        "display_digits_with_boxes(training_digits, training_labels, training_labels, np.array([]), training_bboxes, np.array([]), \"training digits and their labels\")\n",
        "display_digits_with_boxes(validation_digits, validation_labels, validation_labels, np.array([]), validation_bboxes, np.array([]), \"validation digits and their labels\")\n"
      ],
      "execution_count": null,
      "outputs": [
        {
          "output_type": "display_data",
          "data": {
            "text/plain": [
              "<Figure size 2000x400 with 11 Axes>"
            ],
            "image/png": "[encoded data removed]"
          },
          "metadata": {}
        },
        {
          "output_type": "display_data",
          "data": {
            "text/plain": [
              "<Figure size 2000x400 with 11 Axes>"
            ],
            "image/png": "[encoded data removed]"
          },
          "metadata": {}
        }
      ]
    },
    {
      "cell_type": "markdown",
      "metadata": {
        "id": "f8nHWWkS_eeZ"
      },
      "source": [
        "## Define the Network\n",
        "\n",
        "Here, we'll define our custom CNN.\n",
        "- `feature_extractor`: these convolutional layers extract the features of the image.\n",
        "- `classifier`:  This define the output layer that predicts among 10 categories (digits 0 through 9)\n",
        "- `bounding_box_regression`: This defines the output layer that predicts 4 numeric values, which define the coordinates of the bounding box (xmin, ymin, xmax, ymax)\n",
        "- `final_model`: This combines the layers for feature extraction, classification and bounding box prediction.  \n",
        "- `define_and_compile_model`: choose the optimizer and metrics, then compile the model."
      ]
    },
    {
      "cell_type": "code",
      "metadata": {
        "id": "56y8UNFQIVwj",
        "colab": {
          "base_uri": "https://localhost:8080/"
        },
        "outputId": "08deb188-cb26-4928-fa5f-1dfc9e2c227f"
      },
      "source": [
        "'''\n",
        "Feature extractor is the CNN that is made up of convolution and pooling layers.\n",
        "'''\n",
        "def feature_extractor(inputs):\n",
        "    x = tf.keras.layers.Conv2D(16, activation='relu', kernel_size=3, input_shape=(75, 75, 1))(inputs)\n",
        "    x = tf.keras.layers.AveragePooling2D((2, 2))(x)\n",
        "\n",
        "    x = tf.keras.layers.Conv2D(32,kernel_size=3,activation='relu')(x)\n",
        "    x = tf.keras.layers.AveragePooling2D((2, 2))(x)\n",
        "\n",
        "    x = tf.keras.layers.Conv2D(64,kernel_size=3,activation='relu')(x)\n",
        "    x = tf.keras.layers.AveragePooling2D((2, 2))(x)\n",
        "\n",
        "    return x\n",
        "\n",
        "'''\n",
        "dense_layers adds a flatten and dense layer.\n",
        "This will follow the feature extraction layers\n",
        "'''\n",
        "def dense_layers(inputs):\n",
        "  x = tf.keras.layers.Flatten()(inputs)\n",
        "  x = tf.keras.layers.Dense(128, activation='relu')(x)\n",
        "  return x\n",
        "\n",
        "\n",
        "'''\n",
        "Classifier defines the classification output.\n",
        "This has a set of fully connected layers and a softmax layer.\n",
        "'''\n",
        "def classifier(inputs):\n",
        "\n",
        "  classification_output = tf.keras.layers.Dense(10, activation='softmax', name = 'classification')(inputs)\n",
        "  return classification_output\n",
        "\n",
        "\n",
        "'''\n",
        "This function defines the regression output for bounding box prediction.\n",
        "Note that we have four outputs corresponding to (xmin, ymin, xmax, ymax)\n",
        "'''\n",
        "def bounding_box_regression(inputs):\n",
        "    bounding_box_regression_output = tf.keras.layers.Dense(units = '4', name = 'bounding_box')(inputs)\n",
        "    return bounding_box_regression_output\n",
        "\n",
        "\n",
        "def final_model(inputs):\n",
        "    feature_cnn = feature_extractor(inputs)\n",
        "    dense_output = dense_layers(feature_cnn)\n",
        "\n",
        "    '''\n",
        "    The model branches here.\n",
        "    The dense layer's output gets fed into two branches:\n",
        "    classification_output and bounding_box_output\n",
        "    '''\n",
        "    classification_output = classifier(dense_output)\n",
        "    bounding_box_output = bounding_box_regression(dense_output)\n",
        "\n",
        "    model = tf.keras.Model(inputs = inputs, outputs = [classification_output, bounding_box_output])\n",
        "\n",
        "    return model\n",
        "\n",
        "\n",
        "def define_and_compile_model(inputs):\n",
        "  model = final_model(inputs)\n",
        "\n",
        "  model.compile(optimizer='adam',\n",
        "              loss = {'classification' : 'categorical_crossentropy',\n",
        "                      'bounding_box' : 'mse'\n",
        "                     },\n",
        "              metrics = {'classification' : 'accuracy',\n",
        "                         'bounding_box' : 'mse'\n",
        "                        })\n",
        "  return model\n",
        "\n",
        "\n",
        "with strategy.scope():\n",
        "  inputs = tf.keras.layers.Input(shape=(75, 75, 1,))\n",
        "  model = define_and_compile_model(inputs)\n",
        "\n",
        "# print model layers\n",
        "model.summary()"
      ],
      "execution_count": null,
      "outputs": [
        {
          "output_type": "stream",
          "name": "stdout",
          "text": [
            "Model: \"model\"\n",
            "__________________________________________________________________________________________________\n",
            " Layer (type)                Output Shape                 Param #   Connected to                  \n",
            "==================================================================================================\n",
            " input_1 (InputLayer)        [(None, 75, 75, 1)]          0         []                            \n",
            "                                                                                                  \n",
            " conv2d (Conv2D)             (None, 73, 73, 16)           160       ['input_1[0][0]']             \n",
            "                                                                                                  \n",
            " average_pooling2d (Average  (None, 36, 36, 16)           0         ['conv2d[0][0]']              \n",
            " Pooling2D)                                                                                       \n",
            "                                                                                                  \n",
            " conv2d_1 (Conv2D)           (None, 34, 34, 32)           4640      ['average_pooling2d[0][0]']   \n",
            "                                                                                                  \n",
            " average_pooling2d_1 (Avera  (None, 17, 17, 32)           0         ['conv2d_1[0][0]']            \n",
            " gePooling2D)                                                                                     \n",
            "                                                                                                  \n",
            " conv2d_2 (Conv2D)           (None, 15, 15, 64)           18496     ['average_pooling2d_1[0][0]'] \n",
            "                                                                                                  \n",
            " average_pooling2d_2 (Avera  (None, 7, 7, 64)             0         ['conv2d_2[0][0]']            \n",
            " gePooling2D)                                                                                     \n",
            "                                                                                                  \n",
            " flatten (Flatten)           (None, 3136)                 0         ['average_pooling2d_2[0][0]'] \n",
            "                                                                                                  \n",
            " dense (Dense)               (None, 128)                  401536    ['flatten[0][0]']             \n",
            "                                                                                                  \n",
            " classification (Dense)      (None, 10)                   1290      ['dense[0][0]']               \n",
            "                                                                                                  \n",
            " bounding_box (Dense)        (None, 4)                    516       ['dense[0][0]']               \n",
            "                                                                                                  \n",
            "==================================================================================================\n",
            "Total params: 426638 (1.63 MB)\n",
            "Trainable params: 426638 (1.63 MB)\n",
            "Non-trainable params: 0 (0.00 Byte)\n",
            "__________________________________________________________________________________________________\n"
          ]
        }
      ]
    },
    {
      "cell_type": "markdown",
      "metadata": {
        "id": "CuhDh8ao8VyB"
      },
      "source": [
        "### Train and validate the model"
      ]
    },
    {
      "cell_type": "markdown",
      "metadata": {
        "id": "kv0BQTPsKrkt"
      },
      "source": [
        "Train the model.  \n",
        "- We can choose the number of epochs depending on the level of performance that we want and the time that We have."
      ]
    },
    {
      "cell_type": "code",
      "metadata": {
        "id": "TTwH_P-ZJ_xx",
        "colab": {
          "base_uri": "https://localhost:8080/"
        },
        "outputId": "ab734328-cf35-474a-bc22-ed567673a3fd"
      },
      "source": [
        "EPOCHS = 45\n",
        "steps_per_epoch = 60000//BATCH_SIZE  # 60,000 items in this dataset\n",
        "validation_steps = 1\n",
        "\n",
        "history = model.fit(training_dataset,\n",
        "                    steps_per_epoch=steps_per_epoch, validation_data=validation_dataset, validation_steps=validation_steps, epochs=EPOCHS)\n",
        "\n",
        "loss, classification_loss, bounding_box_loss, classification_accuracy, bounding_box_mse = model.evaluate(validation_dataset, steps=1)\n",
        "print(\"Validation accuracy: \", classification_accuracy)"
      ],
      "execution_count": null,
      "outputs": [
        {
          "output_type": "stream",
          "name": "stdout",
          "text": [
            "Epoch 1/45\n",
            "117/117 [==============================] - 12s 43ms/step - loss: 2.1014 - classification_loss: 2.0808 - bounding_box_loss: 0.0205 - classification_accuracy: 0.2288 - bounding_box_mse: 0.0205 - val_loss: 1.6244 - val_classification_loss: 1.6134 - val_bounding_box_loss: 0.0110 - val_classification_accuracy: 0.4074 - val_bounding_box_mse: 0.0110\n",
            "Epoch 2/45\n",
            "117/117 [==============================] - 3s 25ms/step - loss: 1.1235 - classification_loss: 1.1069 - bounding_box_loss: 0.0165 - classification_accuracy: 0.6323 - bounding_box_mse: 0.0165 - val_loss: 0.6614 - val_classification_loss: 0.6472 - val_bounding_box_loss: 0.0142 - val_classification_accuracy: 0.8013 - val_bounding_box_mse: 0.0142\n",
            "Epoch 3/45\n",
            "117/117 [==============================] - 3s 24ms/step - loss: 0.5359 - classification_loss: 0.5204 - bounding_box_loss: 0.0155 - classification_accuracy: 0.8477 - bounding_box_mse: 0.0155 - val_loss: 0.3870 - val_classification_loss: 0.3737 - val_bounding_box_loss: 0.0134 - val_classification_accuracy: 0.8942 - val_bounding_box_mse: 0.0134\n",
            "Epoch 4/45\n",
            "117/117 [==============================] - 3s 24ms/step - loss: 0.3606 - classification_loss: 0.3490 - bounding_box_loss: 0.0116 - classification_accuracy: 0.8999 - bounding_box_mse: 0.0116 - val_loss: 0.3023 - val_classification_loss: 0.2925 - val_bounding_box_loss: 0.0099 - val_classification_accuracy: 0.9117 - val_bounding_box_mse: 0.0099\n",
            "Epoch 5/45\n",
            "117/117 [==============================] - 3s 23ms/step - loss: 0.2940 - classification_loss: 0.2845 - bounding_box_loss: 0.0095 - classification_accuracy: 0.9184 - bounding_box_mse: 0.0095 - val_loss: 0.2377 - val_classification_loss: 0.2295 - val_bounding_box_loss: 0.0082 - val_classification_accuracy: 0.9307 - val_bounding_box_mse: 0.0082\n",
            "Epoch 6/45\n",
            "117/117 [==============================] - 3s 23ms/step - loss: 0.2569 - classification_loss: 0.2491 - bounding_box_loss: 0.0078 - classification_accuracy: 0.9260 - bounding_box_mse: 0.0078 - val_loss: 0.2098 - val_classification_loss: 0.2032 - val_bounding_box_loss: 0.0067 - val_classification_accuracy: 0.9378 - val_bounding_box_mse: 0.0067\n",
            "Epoch 7/45\n",
            "117/117 [==============================] - 3s 23ms/step - loss: 0.2300 - classification_loss: 0.2238 - bounding_box_loss: 0.0062 - classification_accuracy: 0.9340 - bounding_box_mse: 0.0062 - val_loss: 0.2228 - val_classification_loss: 0.2171 - val_bounding_box_loss: 0.0056 - val_classification_accuracy: 0.9345 - val_bounding_box_mse: 0.0056\n",
            "Epoch 8/45\n",
            "117/117 [==============================] - 3s 22ms/step - loss: 0.2109 - classification_loss: 0.2052 - bounding_box_loss: 0.0057 - classification_accuracy: 0.9382 - bounding_box_mse: 0.0057 - val_loss: 0.1788 - val_classification_loss: 0.1737 - val_bounding_box_loss: 0.0051 - val_classification_accuracy: 0.9490 - val_bounding_box_mse: 0.0051\n",
            "Epoch 9/45\n",
            "117/117 [==============================] - 3s 23ms/step - loss: 0.1912 - classification_loss: 0.1862 - bounding_box_loss: 0.0050 - classification_accuracy: 0.9442 - bounding_box_mse: 0.0050 - val_loss: 0.1640 - val_classification_loss: 0.1588 - val_bounding_box_loss: 0.0051 - val_classification_accuracy: 0.9515 - val_bounding_box_mse: 0.0051\n",
            "Epoch 10/45\n",
            "117/117 [==============================] - 3s 23ms/step - loss: 0.1823 - classification_loss: 0.1775 - bounding_box_loss: 0.0048 - classification_accuracy: 0.9482 - bounding_box_mse: 0.0048 - val_loss: 0.1466 - val_classification_loss: 0.1421 - val_bounding_box_loss: 0.0044 - val_classification_accuracy: 0.9553 - val_bounding_box_mse: 0.0044\n",
            "Epoch 11/45\n",
            "117/117 [==============================] - 3s 22ms/step - loss: 0.1687 - classification_loss: 0.1647 - bounding_box_loss: 0.0040 - classification_accuracy: 0.9510 - bounding_box_mse: 0.0040 - val_loss: 0.1489 - val_classification_loss: 0.1445 - val_bounding_box_loss: 0.0043 - val_classification_accuracy: 0.9533 - val_bounding_box_mse: 0.0043\n",
            "Epoch 12/45\n",
            "117/117 [==============================] - 3s 23ms/step - loss: 0.1618 - classification_loss: 0.1580 - bounding_box_loss: 0.0038 - classification_accuracy: 0.9533 - bounding_box_mse: 0.0038 - val_loss: 0.1287 - val_classification_loss: 0.1250 - val_bounding_box_loss: 0.0036 - val_classification_accuracy: 0.9606 - val_bounding_box_mse: 0.0036\n",
            "Epoch 13/45\n",
            "117/117 [==============================] - 3s 23ms/step - loss: 0.1533 - classification_loss: 0.1498 - bounding_box_loss: 0.0035 - classification_accuracy: 0.9550 - bounding_box_mse: 0.0035 - val_loss: 0.1490 - val_classification_loss: 0.1456 - val_bounding_box_loss: 0.0034 - val_classification_accuracy: 0.9546 - val_bounding_box_mse: 0.0034\n",
            "Epoch 14/45\n",
            "117/117 [==============================] - 3s 24ms/step - loss: 0.1475 - classification_loss: 0.1443 - bounding_box_loss: 0.0032 - classification_accuracy: 0.9559 - bounding_box_mse: 0.0032 - val_loss: 0.1146 - val_classification_loss: 0.1117 - val_bounding_box_loss: 0.0029 - val_classification_accuracy: 0.9647 - val_bounding_box_mse: 0.0029\n",
            "Epoch 15/45\n",
            "117/117 [==============================] - 3s 23ms/step - loss: 0.1397 - classification_loss: 0.1368 - bounding_box_loss: 0.0029 - classification_accuracy: 0.9589 - bounding_box_mse: 0.0029 - val_loss: 0.1146 - val_classification_loss: 0.1119 - val_bounding_box_loss: 0.0027 - val_classification_accuracy: 0.9652 - val_bounding_box_mse: 0.0027\n",
            "Epoch 16/45\n",
            "117/117 [==============================] - 3s 22ms/step - loss: 0.1385 - classification_loss: 0.1356 - bounding_box_loss: 0.0029 - classification_accuracy: 0.9586 - bounding_box_mse: 0.0029 - val_loss: 0.1123 - val_classification_loss: 0.1095 - val_bounding_box_loss: 0.0028 - val_classification_accuracy: 0.9659 - val_bounding_box_mse: 0.0028\n",
            "Epoch 17/45\n",
            "117/117 [==============================] - 3s 23ms/step - loss: 0.1301 - classification_loss: 0.1275 - bounding_box_loss: 0.0026 - classification_accuracy: 0.9611 - bounding_box_mse: 0.0026 - val_loss: 0.1092 - val_classification_loss: 0.1067 - val_bounding_box_loss: 0.0025 - val_classification_accuracy: 0.9657 - val_bounding_box_mse: 0.0025\n",
            "Epoch 18/45\n",
            "117/117 [==============================] - 3s 23ms/step - loss: 0.1236 - classification_loss: 0.1211 - bounding_box_loss: 0.0025 - classification_accuracy: 0.9631 - bounding_box_mse: 0.0025 - val_loss: 0.1108 - val_classification_loss: 0.1082 - val_bounding_box_loss: 0.0026 - val_classification_accuracy: 0.9651 - val_bounding_box_mse: 0.0026\n",
            "Epoch 19/45\n",
            "117/117 [==============================] - 3s 22ms/step - loss: 0.1194 - classification_loss: 0.1171 - bounding_box_loss: 0.0023 - classification_accuracy: 0.9642 - bounding_box_mse: 0.0023 - val_loss: 0.0999 - val_classification_loss: 0.0977 - val_bounding_box_loss: 0.0022 - val_classification_accuracy: 0.9690 - val_bounding_box_mse: 0.0022\n",
            "Epoch 20/45\n",
            "117/117 [==============================] - 3s 22ms/step - loss: 0.1188 - classification_loss: 0.1165 - bounding_box_loss: 0.0022 - classification_accuracy: 0.9640 - bounding_box_mse: 0.0022 - val_loss: 0.0947 - val_classification_loss: 0.0924 - val_bounding_box_loss: 0.0023 - val_classification_accuracy: 0.9723 - val_bounding_box_mse: 0.0023\n",
            "Epoch 21/45\n",
            "117/117 [==============================] - 3s 23ms/step - loss: 0.1121 - classification_loss: 0.1101 - bounding_box_loss: 0.0020 - classification_accuracy: 0.9661 - bounding_box_mse: 0.0020 - val_loss: 0.0902 - val_classification_loss: 0.0882 - val_bounding_box_loss: 0.0019 - val_classification_accuracy: 0.9718 - val_bounding_box_mse: 0.0019\n",
            "Epoch 22/45\n",
            "117/117 [==============================] - 3s 23ms/step - loss: 0.1134 - classification_loss: 0.1113 - bounding_box_loss: 0.0021 - classification_accuracy: 0.9664 - bounding_box_mse: 0.0021 - val_loss: 0.0923 - val_classification_loss: 0.0904 - val_bounding_box_loss: 0.0019 - val_classification_accuracy: 0.9711 - val_bounding_box_mse: 0.0019\n",
            "Epoch 23/45\n",
            "117/117 [==============================] - 3s 23ms/step - loss: 0.1071 - classification_loss: 0.1052 - bounding_box_loss: 0.0019 - classification_accuracy: 0.9674 - bounding_box_mse: 0.0019 - val_loss: 0.0941 - val_classification_loss: 0.0922 - val_bounding_box_loss: 0.0018 - val_classification_accuracy: 0.9702 - val_bounding_box_mse: 0.0018\n",
            "Epoch 24/45\n",
            "117/117 [==============================] - 3s 22ms/step - loss: 0.1038 - classification_loss: 0.1020 - bounding_box_loss: 0.0018 - classification_accuracy: 0.9689 - bounding_box_mse: 0.0018 - val_loss: 0.0895 - val_classification_loss: 0.0878 - val_bounding_box_loss: 0.0017 - val_classification_accuracy: 0.9710 - val_bounding_box_mse: 0.0017\n",
            "Epoch 25/45\n",
            "117/117 [==============================] - 3s 23ms/step - loss: 0.1011 - classification_loss: 0.0993 - bounding_box_loss: 0.0017 - classification_accuracy: 0.9698 - bounding_box_mse: 0.0017 - val_loss: 0.0819 - val_classification_loss: 0.0801 - val_bounding_box_loss: 0.0017 - val_classification_accuracy: 0.9759 - val_bounding_box_mse: 0.0017\n",
            "Epoch 26/45\n",
            "117/117 [==============================] - 3s 26ms/step - loss: 0.1003 - classification_loss: 0.0987 - bounding_box_loss: 0.0016 - classification_accuracy: 0.9698 - bounding_box_mse: 0.0016 - val_loss: 0.0877 - val_classification_loss: 0.0861 - val_bounding_box_loss: 0.0016 - val_classification_accuracy: 0.9741 - val_bounding_box_mse: 0.0016\n",
            "Epoch 27/45\n",
            "117/117 [==============================] - 3s 22ms/step - loss: 0.0952 - classification_loss: 0.0936 - bounding_box_loss: 0.0015 - classification_accuracy: 0.9713 - bounding_box_mse: 0.0015 - val_loss: 0.0858 - val_classification_loss: 0.0840 - val_bounding_box_loss: 0.0018 - val_classification_accuracy: 0.9734 - val_bounding_box_mse: 0.0018\n",
            "Epoch 28/45\n",
            "117/117 [==============================] - 3s 23ms/step - loss: 0.0942 - classification_loss: 0.0927 - bounding_box_loss: 0.0015 - classification_accuracy: 0.9717 - bounding_box_mse: 0.0015 - val_loss: 0.0801 - val_classification_loss: 0.0785 - val_bounding_box_loss: 0.0016 - val_classification_accuracy: 0.9748 - val_bounding_box_mse: 0.0016\n",
            "Epoch 29/45\n",
            "117/117 [==============================] - 3s 22ms/step - loss: 0.0898 - classification_loss: 0.0883 - bounding_box_loss: 0.0015 - classification_accuracy: 0.9724 - bounding_box_mse: 0.0015 - val_loss: 0.0725 - val_classification_loss: 0.0711 - val_bounding_box_loss: 0.0014 - val_classification_accuracy: 0.9775 - val_bounding_box_mse: 0.0014\n",
            "Epoch 30/45\n",
            "117/117 [==============================] - 3s 23ms/step - loss: 0.0869 - classification_loss: 0.0856 - bounding_box_loss: 0.0013 - classification_accuracy: 0.9739 - bounding_box_mse: 0.0013 - val_loss: 0.0786 - val_classification_loss: 0.0771 - val_bounding_box_loss: 0.0015 - val_classification_accuracy: 0.9754 - val_bounding_box_mse: 0.0015\n",
            "Epoch 31/45\n",
            "117/117 [==============================] - 3s 23ms/step - loss: 0.0876 - classification_loss: 0.0862 - bounding_box_loss: 0.0013 - classification_accuracy: 0.9727 - bounding_box_mse: 0.0013 - val_loss: 0.0724 - val_classification_loss: 0.0712 - val_bounding_box_loss: 0.0013 - val_classification_accuracy: 0.9765 - val_bounding_box_mse: 0.0013\n",
            "Epoch 32/45\n",
            "117/117 [==============================] - 3s 23ms/step - loss: 0.0859 - classification_loss: 0.0846 - bounding_box_loss: 0.0013 - classification_accuracy: 0.9736 - bounding_box_mse: 0.0013 - val_loss: 0.0798 - val_classification_loss: 0.0785 - val_bounding_box_loss: 0.0014 - val_classification_accuracy: 0.9750 - val_bounding_box_mse: 0.0014\n",
            "Epoch 33/45\n",
            "117/117 [==============================] - 3s 22ms/step - loss: 0.0814 - classification_loss: 0.0802 - bounding_box_loss: 0.0012 - classification_accuracy: 0.9755 - bounding_box_mse: 0.0012 - val_loss: 0.0634 - val_classification_loss: 0.0622 - val_bounding_box_loss: 0.0012 - val_classification_accuracy: 0.9796 - val_bounding_box_mse: 0.0012\n",
            "Epoch 34/45\n",
            "117/117 [==============================] - 3s 23ms/step - loss: 0.0816 - classification_loss: 0.0804 - bounding_box_loss: 0.0012 - classification_accuracy: 0.9752 - bounding_box_mse: 0.0012 - val_loss: 0.0680 - val_classification_loss: 0.0669 - val_bounding_box_loss: 0.0011 - val_classification_accuracy: 0.9800 - val_bounding_box_mse: 0.0011\n",
            "Epoch 35/45\n",
            "117/117 [==============================] - 3s 23ms/step - loss: 0.0796 - classification_loss: 0.0785 - bounding_box_loss: 0.0011 - classification_accuracy: 0.9756 - bounding_box_mse: 0.0011 - val_loss: 0.0659 - val_classification_loss: 0.0647 - val_bounding_box_loss: 0.0012 - val_classification_accuracy: 0.9792 - val_bounding_box_mse: 0.0012\n",
            "Epoch 36/45\n",
            "117/117 [==============================] - 3s 22ms/step - loss: 0.0784 - classification_loss: 0.0773 - bounding_box_loss: 0.0011 - classification_accuracy: 0.9761 - bounding_box_mse: 0.0011 - val_loss: 0.0865 - val_classification_loss: 0.0854 - val_bounding_box_loss: 0.0011 - val_classification_accuracy: 0.9720 - val_bounding_box_mse: 0.0011\n",
            "Epoch 37/45\n",
            "117/117 [==============================] - 3s 23ms/step - loss: 0.0763 - classification_loss: 0.0752 - bounding_box_loss: 0.0011 - classification_accuracy: 0.9768 - bounding_box_mse: 0.0011 - val_loss: 0.0579 - val_classification_loss: 0.0568 - val_bounding_box_loss: 0.0011 - val_classification_accuracy: 0.9811 - val_bounding_box_mse: 0.0011\n",
            "Epoch 38/45\n",
            "117/117 [==============================] - 3s 22ms/step - loss: 0.0716 - classification_loss: 0.0706 - bounding_box_loss: 0.0010 - classification_accuracy: 0.9781 - bounding_box_mse: 0.0010 - val_loss: 0.0732 - val_classification_loss: 0.0720 - val_bounding_box_loss: 0.0012 - val_classification_accuracy: 0.9777 - val_bounding_box_mse: 0.0012\n",
            "Epoch 39/45\n",
            "117/117 [==============================] - 3s 22ms/step - loss: 0.0717 - classification_loss: 0.0707 - bounding_box_loss: 0.0011 - classification_accuracy: 0.9782 - bounding_box_mse: 0.0011 - val_loss: 0.0611 - val_classification_loss: 0.0602 - val_bounding_box_loss: 9.3260e-04 - val_classification_accuracy: 0.9805 - val_bounding_box_mse: 9.3260e-04\n",
            "Epoch 40/45\n",
            "117/117 [==============================] - 3s 23ms/step - loss: 0.0721 - classification_loss: 0.0711 - bounding_box_loss: 0.0010 - classification_accuracy: 0.9776 - bounding_box_mse: 0.0010 - val_loss: 0.0697 - val_classification_loss: 0.0685 - val_bounding_box_loss: 0.0011 - val_classification_accuracy: 0.9794 - val_bounding_box_mse: 0.0011\n",
            "Epoch 41/45\n",
            "117/117 [==============================] - 3s 23ms/step - loss: 0.0716 - classification_loss: 0.0707 - bounding_box_loss: 9.4936e-04 - classification_accuracy: 0.9780 - bounding_box_mse: 9.4936e-04 - val_loss: 0.0601 - val_classification_loss: 0.0592 - val_bounding_box_loss: 8.4954e-04 - val_classification_accuracy: 0.9813 - val_bounding_box_mse: 8.4954e-04\n",
            "Epoch 42/45\n",
            "117/117 [==============================] - 3s 23ms/step - loss: 0.0671 - classification_loss: 0.0662 - bounding_box_loss: 9.2611e-04 - classification_accuracy: 0.9792 - bounding_box_mse: 9.2611e-04 - val_loss: 0.0604 - val_classification_loss: 0.0594 - val_bounding_box_loss: 9.7298e-04 - val_classification_accuracy: 0.9791 - val_bounding_box_mse: 9.7298e-04\n",
            "Epoch 43/45\n",
            "117/117 [==============================] - 3s 23ms/step - loss: 0.0651 - classification_loss: 0.0642 - bounding_box_loss: 9.0720e-04 - classification_accuracy: 0.9806 - bounding_box_mse: 9.0720e-04 - val_loss: 0.0582 - val_classification_loss: 0.0574 - val_bounding_box_loss: 8.6374e-04 - val_classification_accuracy: 0.9812 - val_bounding_box_mse: 8.6374e-04\n",
            "Epoch 44/45\n",
            "117/117 [==============================] - 3s 24ms/step - loss: 0.0660 - classification_loss: 0.0651 - bounding_box_loss: 8.5232e-04 - classification_accuracy: 0.9798 - bounding_box_mse: 8.5232e-04 - val_loss: 0.0684 - val_classification_loss: 0.0675 - val_bounding_box_loss: 8.9566e-04 - val_classification_accuracy: 0.9777 - val_bounding_box_mse: 8.9566e-04\n",
            "Epoch 45/45\n",
            "117/117 [==============================] - 3s 23ms/step - loss: 0.0622 - classification_loss: 0.0613 - bounding_box_loss: 9.3946e-04 - classification_accuracy: 0.9809 - bounding_box_mse: 9.3946e-04 - val_loss: 0.0687 - val_classification_loss: 0.0678 - val_bounding_box_loss: 9.0763e-04 - val_classification_accuracy: 0.9792 - val_bounding_box_mse: 9.0763e-04\n",
            "1/1 [==============================] - 1s 1s/step - loss: 0.0722 - classification_loss: 0.0713 - bounding_box_loss: 9.1092e-04 - classification_accuracy: 0.9779 - bounding_box_mse: 9.1092e-04\n",
            "Validation accuracy:  0.9779000282287598\n"
          ]
        }
      ]
    },
    {
      "cell_type": "code",
      "source": [
        "plot_metrics(\"bounding_box_mse\", \"Bounding Box MSE\")"
      ],
      "metadata": {
        "colab": {
          "base_uri": "https://localhost:8080/",
          "height": 456
        },
        "id": "Y-gwiROkjcAu",
        "outputId": "42e24842-4880-4828-ba7c-d9043f70d8b9"
      },
      "execution_count": null,
      "outputs": [
        {
          "output_type": "display_data",
          "data": {
            "text/plain": [
              "<Figure size 640x480 with 1 Axes>"
            ],
            "image/png": "[encoded data removed]"
          },
          "metadata": {}
        }
      ]
    },
    {
      "cell_type": "code",
      "source": [
        "plot_metrics(\"classification_accuracy\", \"Classification Accuracy\")"
      ],
      "metadata": {
        "colab": {
          "base_uri": "https://localhost:8080/",
          "height": 456
        },
        "id": "T2IOq0bWjKrP",
        "outputId": "50430f24-1c50-4010-df73-6f60c293dce1"
      },
      "execution_count": null,
      "outputs": [
        {
          "output_type": "display_data",
          "data": {
            "text/plain": [
              "<Figure size 640x480 with 1 Axes>"
            ],
            "image/png": "[encoded data removed]"
          },
          "metadata": {}
        }
      ]
    },
    {
      "cell_type": "code",
      "metadata": {
        "id": "Cz-b8TxU6EDj",
        "colab": {
          "base_uri": "https://localhost:8080/",
          "height": 456
        },
        "outputId": "17392a55-446f-4596-b165-7f0f164a3dc0"
      },
      "source": [
        "plot_metrics(\"classification_loss\", \"Classification Loss\")"
      ],
      "execution_count": null,
      "outputs": [
        {
          "output_type": "display_data",
          "data": {
            "text/plain": [
              "<Figure size 640x480 with 1 Axes>"
            ],
            "image/png": "[encoded data removed]"
          },
          "metadata": {}
        }
      ]
    },
    {
      "cell_type": "markdown",
      "metadata": {
        "id": "3FBn4V5-Krkt"
      },
      "source": [
        "## Intersection over union\n",
        "\n",
        "Calculate the I-O-U metric to evaluate the model's performance."
      ]
    },
    {
      "cell_type": "code",
      "metadata": {
        "id": "YFqJxt3_VrCm"
      },
      "source": [
        "def intersection_over_union(pred_box, true_box):\n",
        "    xmin_pred, ymin_pred, xmax_pred, ymax_pred =  np.split(pred_box, 4, axis = 1)\n",
        "    xmin_true, ymin_true, xmax_true, ymax_true = np.split(true_box, 4, axis = 1)\n",
        "\n",
        "    smoothing_factor = 1e-10\n",
        "\n",
        "    xmin_overlap = np.maximum(xmin_pred, xmin_true)\n",
        "    xmax_overlap = np.minimum(xmax_pred, xmax_true)\n",
        "    ymin_overlap = np.maximum(ymin_pred, ymin_true)\n",
        "    ymax_overlap = np.minimum(ymax_pred, ymax_true)\n",
        "\n",
        "    pred_box_area = (xmax_pred - xmin_pred) * (ymax_pred - ymin_pred)\n",
        "    true_box_area = (xmax_true - xmin_true) * (ymax_true - ymin_true)\n",
        "\n",
        "    overlap_area = np.maximum((xmax_overlap - xmin_overlap), 0)  * np.maximum((ymax_overlap - ymin_overlap), 0)\n",
        "    union_area = (pred_box_area + true_box_area) - overlap_area\n",
        "\n",
        "    iou = (overlap_area + smoothing_factor) / (union_area + smoothing_factor)\n",
        "\n",
        "    return iou"
      ],
      "execution_count": null,
      "outputs": []
    },
    {
      "cell_type": "markdown",
      "metadata": {
        "id": "9jFVovcUUVs1"
      },
      "source": [
        "### Visualize predictions\n",
        "The following code will make predictions and visualize both the classification and the predicted bounding boxes.\n",
        "- The true bounding box labels will be in green, and the model's predicted bounding boxes are in red.\n",
        "- The predicted number is shown below the image."
      ]
    },
    {
      "cell_type": "code",
      "metadata": {
        "id": "w12OId8Mz7dF",
        "colab": {
          "base_uri": "https://localhost:8080/",
          "height": 402
        },
        "outputId": "bd7824e7-bb4d-44e3-9af0-e57cb72fb0d6"
      },
      "source": [
        "# recognize validation digits\n",
        "predictions = model.predict(validation_digits, batch_size=64)\n",
        "\n",
        "predicted_labels = np.argmax(predictions[0], axis=1)\n",
        "\n",
        "predicted_bboxes = predictions[1]\n",
        "\n",
        "iou = intersection_over_union(predicted_bboxes, validation_bboxes)\n",
        "\n",
        "iou_threshold = 0.6\n",
        "\n",
        "print(\"Number of predictions where iou > threshold(%s): %s\" % (iou_threshold, (iou >= iou_threshold).sum()))\n",
        "print(\"Number of predictions where iou < threshold(%s): %s\" % (iou_threshold, (iou < iou_threshold).sum()))\n",
        "\n",
        "\n",
        "display_digits_with_boxes(validation_digits, predicted_labels, validation_labels, predicted_bboxes, validation_bboxes, iou, \"True and Predicted values\")"
      ],
      "execution_count": null,
      "outputs": [
        {
          "output_type": "stream",
          "name": "stdout",
          "text": [
            "157/157 [==============================] - 5s 22ms/step\n",
            "Number of predictions where iou > threshold(0.6): 9538\n",
            "Number of predictions where iou < threshold(0.6): 462\n"
          ]
        },
        {
          "output_type": "display_data",
          "data": {
            "text/plain": [
              "<Figure size 2000x400 with 11 Axes>"
            ],
            "image/png": "[encoded data removed]"
          },
          "metadata": {}
        }
      ]
    },
    {
      "cell_type": "markdown",
      "source": [
        "## Save Model"
      ],
      "metadata": {
        "id": "EwsaHQNTIBSv"
      }
    },
    {
      "cell_type": "code",
      "source": [
        "# Save the model in the new native Keras format (.keras)\n",
        "model.save('my_model.keras')"
      ],
      "metadata": {
        "colab": {
          "base_uri": "https://localhost:8080/"
        },
        "id": "C2YWWTVGjy8-",
        "outputId": "b42a4fc9-bc94-4e1e-b313-efed4e882fd9"
      },
      "execution_count": null,
      "outputs": [
        {
          "output_type": "stream",
          "name": "stderr",
          "text": [
            "/usr/local/lib/python3.10/dist-packages/keras/src/engine/training.py:3103: UserWarning: You are saving your model as an HDF5 file via `model.save()`. This file format is considered legacy. We recommend using instead the native Keras format, e.g. `model.save('my_model.keras')`.\n",
            "  saving_api.save_model(\n"
          ]
        }
      ]
    },
    {
      "cell_type": "markdown",
      "source": [
        "# Upload Image [Run Me]\n"
      ],
      "metadata": {
        "id": "nFBouez2uz0V"
      }
    },
    {
      "cell_type": "code",
      "source": [
        "from google.colab import files  # Only works in Google Colab\n",
        "from PIL import Image, ImageDraw\n",
        "from io import BytesIO\n",
        "import numpy as np\n",
        "import matplotlib.pyplot as plt\n",
        "from tensorflow.keras.models import load_model  # Import the load_model function\n",
        "\n",
        "im_width = 75\n",
        "im_height = 75\n",
        "use_normalized_coordinates = True\n",
        "\n",
        "def draw_bounding_boxes_on_image_array(image,\n",
        "                                       boxes,\n",
        "                                       color=[],\n",
        "                                       thickness=1,\n",
        "                                       display_str_list=()):\n",
        "    \"\"\"Draws bounding boxes on image (numpy array).\n",
        "    Args:\n",
        "      image: a numpy array object.\n",
        "      boxes: a 2-dimensional numpy array of [N, 4]: (ymin, xmin, ymax, xmax).\n",
        "             The coordinates are in normalized format between [0, 1].\n",
        "      color: color to draw bounding box. Default is red.\n",
        "      thickness: line thickness. Default value is 4.\n",
        "      display_str_list: a list of strings for each bounding box.\n",
        "    Raises:\n",
        "      ValueError: if boxes is not a [N, 4] array\n",
        "    \"\"\"\n",
        "    image_pil = Image.fromarray(image)\n",
        "    rgbimg = Image.new(\"RGBA\", image_pil.size)\n",
        "    rgbimg.paste(image_pil)\n",
        "    draw_bounding_boxes_on_image(rgbimg, boxes, color, thickness,\n",
        "                                 display_str_list)\n",
        "    return np.array(rgbimg)\n",
        "\n",
        "\n",
        "def draw_bounding_boxes_on_image(image,\n",
        "                                 boxes,\n",
        "                                 color=[],\n",
        "                                 thickness=1,\n",
        "                                 display_str_list=()):\n",
        "    \"\"\"Draws bounding boxes on image.\n",
        "    Args:\n",
        "      image: a PIL.Image object.\n",
        "      boxes: a 2-dimensional numpy array of [N, 4]: (ymin, xmin, ymax, xmax).\n",
        "             The coordinates are in normalized format between [0, 1].\n",
        "      color: color to draw bounding box. Default is red.\n",
        "      thickness: line thickness. Default value is 4.\n",
        "      display_str_list: a list of strings for each bounding box.\n",
        "    Raises:\n",
        "      ValueError: if boxes is not a [N, 4] array\n",
        "    \"\"\"\n",
        "    boxes_shape = boxes.shape\n",
        "    if not boxes_shape:\n",
        "        return\n",
        "    if len(boxes_shape) != 2 or boxes_shape[1] != 4:\n",
        "        raise ValueError('Input must be of size [N, 4]')\n",
        "    for i in range(boxes_shape[0]):\n",
        "        draw_bounding_box_on_image(image, boxes[i, 1], boxes[i, 0], boxes[i, 3],\n",
        "                                   boxes[i, 2], color[i], thickness, display_str_list[i])\n",
        "\n",
        "def draw_bounding_box_on_image(image,\n",
        "                               ymin,\n",
        "                               xmin,\n",
        "                               ymax,\n",
        "                               xmax,\n",
        "                               color='red',\n",
        "                               thickness=1,\n",
        "                               display_str=None,\n",
        "                               use_normalized_coordinates=True):\n",
        "    \"\"\"Adds a bounding box to an image.\n",
        "    Bounding box coordinates can be specified in either absolute (pixel) or\n",
        "    normalized coordinates by setting the use_normalized_coordinates argument.\n",
        "    Args:\n",
        "      image: a PIL.Image object.\n",
        "      ymin: ymin of bounding box.\n",
        "      xmin: xmin of bounding box.\n",
        "      ymax: ymax of bounding box.\n",
        "      xmax: xmax of bounding box.\n",
        "      color: color to draw bounding box. Default is red.\n",
        "      thickness: line thickness. Default value is 4.\n",
        "      display_str_list: string to display in box\n",
        "      use_normalized_coordinates: If True (default), treat coordinates\n",
        "        ymin, xmin, ymax, xmax as relative to the image.  Otherwise treat\n",
        "        coordinates as absolute.\n",
        "    \"\"\"\n",
        "    draw = ImageDraw.Draw(image)\n",
        "    im_width, im_height = image.size\n",
        "    if use_normalized_coordinates:\n",
        "        (left, right, top, bottom) = (xmin * im_width, xmax * im_width,\n",
        "                                      ymin * im_height, ymax * im_height)\n",
        "    else:\n",
        "        (left, right, top, bottom) = (xmin, xmax, ymin, ymax)\n",
        "    draw.line([(left, top), (left, bottom), (right, bottom),\n",
        "               (right, top), (left, top)], width=thickness, fill=color)\n",
        "\n",
        "\n",
        "def display_single_digit_with_predicted_bboxes(validation_digit, predicted_bboxes):\n",
        "    \"\"\"\n",
        "    Display a single digit image with its predicted bounding boxes.\n",
        "\n",
        "    Args:\n",
        "    - validation_digit: A single digit image (75x75) as a numpy array.\n",
        "    - predicted_bboxes: Predicted bounding boxes for the digit (shape: [num_boxes, 4]).\n",
        "    \"\"\"\n",
        "    # Rescale image data for visualization\n",
        "    validation_digit = validation_digit * 255.0\n",
        "    validation_digit = validation_digit.reshape(75, 75)\n",
        "\n",
        "    # Create figure for plotting\n",
        "    fig, ax = plt.subplots(figsize=(6, 6))\n",
        "\n",
        "    # Draw the bounding boxes on the image\n",
        "    img_to_draw = draw_bounding_boxes_on_image_array(\n",
        "        image=validation_digit,\n",
        "        boxes=predicted_bboxes,\n",
        "        color=['red'],  # Color for predicted bounding boxes\n",
        "        display_str_list=[\"pred\"]  # Display label for predicted boxes\n",
        "    )\n",
        "\n",
        "    # Display the image with bounding boxes\n",
        "    ax.imshow(img_to_draw)\n",
        "    ax.axis('off')\n",
        "\n",
        "    plt.show()\n",
        "\n",
        "def upload_image():\n",
        "    uploaded = files.upload()  # Trigger the file upload dialog\n",
        "    for filename in uploaded.keys():\n",
        "        # Open the image using PIL and convert to grayscale\n",
        "        img = Image.open(BytesIO(uploaded[filename])).convert('L')\n",
        "\n",
        "        # Resize the image to 75x75 pixels\n",
        "        img = img.resize((75, 75))\n",
        "\n",
        "        # Convert to numpy array and normalize (scale by 255)\n",
        "        img_array = np.array(img) / 255.0\n",
        "        return img_array\n",
        "\n",
        "# Load the trained model\n",
        "model = load_model(\"/content/model.h5\")  # Replace with the path to your saved model\n",
        "\n",
        "# Example usage (make sure to replace with actual data):\n",
        "# recognize validation digits\n",
        "display(Markdown(\"# UPLOAD Image : \"))\n",
        "validation_digit = upload_image()\n",
        "\n",
        "# Reshape the image to match the expected input shape (1, 75, 75, 1)\n",
        "validation_digit = validation_digit.reshape(1, 75, 75, 1)  # Ensure the input shape is correct\n",
        "\n",
        "# Model prediction\n",
        "predictions = model.predict(validation_digit)\n",
        "\n",
        "# Extract predicted labels (class predictions)\n",
        "predicted_labels = np.argmax(predictions[0], axis=1)\n",
        "\n",
        "# Extract predicted bounding boxes (assuming it's the second output of the model)\n",
        "predicted_bboxes = predictions[1]  # Should be of shape [num_boxes, 4]\n",
        "\n",
        "# Display the result\n",
        "display(Markdown(f\"---\"))\n",
        "display(Markdown(f\"## **Digit Label:** {predicted_labels[0]}\"))\n",
        "display_single_digit_with_predicted_bboxes(validation_digit[0], predicted_bboxes)"
      ],
      "metadata": {
        "colab": {
          "base_uri": "https://localhost:8080/",
          "height": 686
        },
        "id": "UoNqAy4tkGUY",
        "outputId": "b506b809-174b-42b5-fa1b-a61c08f77069"
      },
      "execution_count": null,
      "outputs": [
        {
          "output_type": "display_data",
          "data": {
            "text/plain": [
              "<IPython.core.display.Markdown object>"
            ],
            "text/markdown": "# UPLOAD Image : "
          },
          "metadata": {}
        },
        {
          "output_type": "display_data",
          "data": {
            "text/plain": [
              "<IPython.core.display.HTML object>"
            ],
            "text/html": [
              "\n",
              "     <input type=\"file\" id=\"files-f965f7c4-2e32-4577-915c-11457d7e0e7d\" name=\"files[]\" multiple disabled\n",
              "        style=\"border:none\" />\n",
              "     <output id=\"result-f965f7c4-2e32-4577-915c-11457d7e0e7d\">\n",
              "      Upload widget is only available when the cell has been executed in the\n",
              "      current browser session. Please rerun this cell to enable.\n",
              "      </output>\n",
              "      <script>// Copyright 2017 Google LLC\n",
              "//\n",
              "// Licensed under the Apache License, Version 2.0 (the \"License\");\n",
              "// you may not use this file except in compliance with the License.\n",
              "// You may obtain a copy of the License at\n",
              "//\n",
              "//      http://www.apache.org/licenses/LICENSE-2.0\n",
              "//\n",
              "// Unless required by applicable law or agreed to in writing, software\n",
              "// distributed under the License is distributed on an \"AS IS\" BASIS,\n",
              "// WITHOUT WARRANTIES OR CONDITIONS OF ANY KIND, either express or implied.\n",
              "// See the License for the specific language governing permissions and\n",
              "// limitations under the License.\n",
              "\n",
              "/**\n",
              " * @fileoverview Helpers for google.colab Python module.\n",
              " */\n",
              "(function(scope) {\n",
              "function span(text, styleAttributes = {}) {\n",
              "  const element = document.createElement('span');\n",
              "  element.textContent = text;\n",
              "  for (const key of Object.keys(styleAttributes)) {\n",
              "    element.style[key] = styleAttributes[key];\n",
              "  }\n",
              "  return element;\n",
              "}\n",
              "\n",
              "// Max number of bytes which will be uploaded at a time.\n",
              "const MAX_PAYLOAD_SIZE = 100 * 1024;\n",
              "\n",
              "function _uploadFiles(inputId, outputId) {\n",
              "  const steps = uploadFilesStep(inputId, outputId);\n",
              "  const outputElement = document.getElementById(outputId);\n",
              "  // Cache steps on the outputElement to make it available for the next call\n",
              "  // to uploadFilesContinue from Python.\n",
              "  outputElement.steps = steps;\n",
              "\n",
              "  return _uploadFilesContinue(outputId);\n",
              "}\n",
              "\n",
              "// This is roughly an async generator (not supported in the browser yet),\n",
              "// where there are multiple asynchronous steps and the Python side is going\n",
              "// to poll for completion of each step.\n",
              "// This uses a Promise to block the python side on completion of each step,\n",
              "// then passes the result of the previous step as the input to the next step.\n",
              "function _uploadFilesContinue(outputId) {\n",
              "  const outputElement = document.getElementById(outputId);\n",
              "  const steps = outputElement.steps;\n",
              "\n",
              "  const next = steps.next(outputElement.lastPromiseValue);\n",
              "  return Promise.resolve(next.value.promise).then((value) => {\n",
              "    // Cache the last promise value to make it available to the next\n",
              "    // step of the generator.\n",
              "    outputElement.lastPromiseValue = value;\n",
              "    return next.value.response;\n",
              "  });\n",
              "}\n",
              "\n",
              "/**\n",
              " * Generator function which is called between each async step of the upload\n",
              " * process.\n",
              " * @param {string} inputId Element ID of the input file picker element.\n",
              " * @param {string} outputId Element ID of the output display.\n",
              " * @return {!Iterable<!Object>} Iterable of next steps.\n",
              " */\n",
              "function* uploadFilesStep(inputId, outputId) {\n",
              "  const inputElement = document.getElementById(inputId);\n",
              "  inputElement.disabled = false;\n",
              "\n",
              "  const outputElement = document.getElementById(outputId);\n",
              "  outputElement.innerHTML = '';\n",
              "\n",
              "  const pickedPromise = new Promise((resolve) => {\n",
              "    inputElement.addEventListener('change', (e) => {\n",
              "      resolve(e.target.files);\n",
              "    });\n",
              "  });\n",
              "\n",
              "  const cancel = document.createElement('button');\n",
              "  inputElement.parentElement.appendChild(cancel);\n",
              "  cancel.textContent = 'Cancel upload';\n",
              "  const cancelPromise = new Promise((resolve) => {\n",
              "    cancel.onclick = () => {\n",
              "      resolve(null);\n",
              "    };\n",
              "  });\n",
              "\n",
              "  // Wait for the user to pick the files.\n",
              "  const files = yield {\n",
              "    promise: Promise.race([pickedPromise, cancelPromise]),\n",
              "    response: {\n",
              "      action: 'starting',\n",
              "    }\n",
              "  };\n",
              "\n",
              "  cancel.remove();\n",
              "\n",
              "  // Disable the input element since further picks are not allowed.\n",
              "  inputElement.disabled = true;\n",
              "\n",
              "  if (!files) {\n",
              "    return {\n",
              "      response: {\n",
              "        action: 'complete',\n",
              "      }\n",
              "    };\n",
              "  }\n",
              "\n",
              "  for (const file of files) {\n",
              "    const li = document.createElement('li');\n",
              "    li.append(span(file.name, {fontWeight: 'bold'}));\n",
              "    li.append(span(\n",
              "        `(${file.type || 'n/a'}) - ${file.size} bytes, ` +\n",
              "        `last modified: ${\n",
              "            file.lastModifiedDate ? file.lastModifiedDate.toLocaleDateString() :\n",
              "                                    'n/a'} - `));\n",
              "    const percent = span('0% done');\n",
              "    li.appendChild(percent);\n",
              "\n",
              "    outputElement.appendChild(li);\n",
              "\n",
              "    const fileDataPromise = new Promise((resolve) => {\n",
              "      const reader = new FileReader();\n",
              "      reader.onload = (e) => {\n",
              "        resolve(e.target.result);\n",
              "      };\n",
              "      reader.readAsArrayBuffer(file);\n",
              "    });\n",
              "    // Wait for the data to be ready.\n",
              "    let fileData = yield {\n",
              "      promise: fileDataPromise,\n",
              "      response: {\n",
              "        action: 'continue',\n",
              "      }\n",
              "    };\n",
              "\n",
              "    // Use a chunked sending to avoid message size limits. See b/62115660.\n",
              "    let position = 0;\n",
              "    do {\n",
              "      const length = Math.min(fileData.byteLength - position, MAX_PAYLOAD_SIZE);\n",
              "      const chunk = new Uint8Array(fileData, position, length);\n",
              "      position += length;\n",
              "\n",
              "      const base64 = btoa(String.fromCharCode.apply(null, chunk));\n",
              "      yield {\n",
              "        response: {\n",
              "          action: 'append',\n",
              "          file: file.name,\n",
              "          data: base64,\n",
              "        },\n",
              "      };\n",
              "\n",
              "      let percentDone = fileData.byteLength === 0 ?\n",
              "          100 :\n",
              "          Math.round((position / fileData.byteLength) * 100);\n",
              "      percent.textContent = `${percentDone}% done`;\n",
              "\n",
              "    } while (position < fileData.byteLength);\n",
              "  }\n",
              "\n",
              "  // All done.\n",
              "  yield {\n",
              "    response: {\n",
              "      action: 'complete',\n",
              "    }\n",
              "  };\n",
              "}\n",
              "\n",
              "scope.google = scope.google || {};\n",
              "scope.google.colab = scope.google.colab || {};\n",
              "scope.google.colab._files = {\n",
              "  _uploadFiles,\n",
              "  _uploadFilesContinue,\n",
              "};\n",
              "})(self);\n",
              "</script> "
            ]
          },
          "metadata": {}
        },
        {
          "output_type": "stream",
          "name": "stdout",
          "text": [
            "Saving temp.png to temp (8).png\n",
            "1/1 [==============================] - 0s 90ms/step\n"
          ]
        },
        {
          "output_type": "display_data",
          "data": {
            "text/plain": [
              "<IPython.core.display.Markdown object>"
            ],
            "text/markdown": "---"
          },
          "metadata": {}
        },
        {
          "output_type": "display_data",
          "data": {
            "text/plain": [
              "<IPython.core.display.Markdown object>"
            ],
            "text/markdown": "## **Digit Label:** 2"
          },
          "metadata": {}
        },
        {
          "output_type": "display_data",
          "data": {
            "text/plain": [
              "<Figure size 600x600 with 1 Axes>"
            ],
            "image/png": "[encoded data removed]"
          },
          "metadata": {}
        }
      ]
    },
    {
      "cell_type": "markdown",
      "source": [
        "# Upload Model as well as Image [Run Me]\n"
      ],
      "metadata": {
        "id": "UeGZsWqGupoh"
      }
    },
    {
      "cell_type": "code",
      "source": [
        "from google.colab import files  # Only works in Google Colab\n",
        "from PIL import Image, ImageDraw\n",
        "from io import BytesIO\n",
        "import numpy as np\n",
        "import matplotlib.pyplot as plt\n",
        "from tensorflow.keras.models import load_model\n",
        "from IPython.display import Markdown, display\n",
        "\n",
        "im_width = 75\n",
        "im_height = 75\n",
        "use_normalized_coordinates = True\n",
        "\n",
        "def draw_bounding_boxes_on_image_array(image,\n",
        "                                       boxes,\n",
        "                                       color=[],\n",
        "                                       thickness=1,\n",
        "                                       display_str_list=()):\n",
        "    \"\"\"Draws bounding boxes on image (numpy array).\"\"\"\n",
        "    image_pil = Image.fromarray(image)\n",
        "    rgbimg = Image.new(\"RGBA\", image_pil.size)\n",
        "    rgbimg.paste(image_pil)\n",
        "    draw_bounding_boxes_on_image(rgbimg, boxes, color, thickness,\n",
        "                                 display_str_list)\n",
        "    return np.array(rgbimg)\n",
        "\n",
        "\n",
        "def draw_bounding_boxes_on_image(image,\n",
        "                                 boxes,\n",
        "                                 color=[],\n",
        "                                 thickness=1,\n",
        "                                 display_str_list=()):\n",
        "    \"\"\"Draws bounding boxes on image.\"\"\"\n",
        "    boxes_shape = boxes.shape\n",
        "    if not boxes_shape:\n",
        "        return\n",
        "    if len(boxes_shape) != 2 or boxes_shape[1] != 4:\n",
        "        raise ValueError('Input must be of size [N, 4]')\n",
        "    for i in range(boxes_shape[0]):\n",
        "        draw_bounding_box_on_image(image, boxes[i, 1], boxes[i, 0], boxes[i, 3],\n",
        "                                   boxes[i, 2], color[i], thickness, display_str_list[i])\n",
        "\n",
        "def draw_bounding_box_on_image(image,\n",
        "                               ymin,\n",
        "                               xmin,\n",
        "                               ymax,\n",
        "                               xmax,\n",
        "                               color='red',\n",
        "                               thickness=1,\n",
        "                               display_str=None,\n",
        "                               use_normalized_coordinates=True):\n",
        "    \"\"\"Adds a bounding box to an image.\"\"\"\n",
        "    draw = ImageDraw.Draw(image)\n",
        "    im_width, im_height = image.size\n",
        "    if use_normalized_coordinates:\n",
        "        (left, right, top, bottom) = (xmin * im_width, xmax * im_width,\n",
        "                                      ymin * im_height, ymax * im_height)\n",
        "    else:\n",
        "        (left, right, top, bottom) = (xmin, xmax, ymin, ymax)\n",
        "    draw.line([(left, top), (left, bottom), (right, bottom),\n",
        "               (right, top), (left, top)], width=thickness, fill=color)\n",
        "\n",
        "\n",
        "def display_single_digit_with_predicted_bboxes(validation_digit, predicted_bboxes):\n",
        "    \"\"\"\n",
        "    Display a single digit image with its predicted bounding boxes.\n",
        "    \"\"\"\n",
        "    validation_digit = validation_digit * 255.0\n",
        "    validation_digit = validation_digit.reshape(75, 75)\n",
        "\n",
        "    fig, ax = plt.subplots(figsize=(6, 6))\n",
        "    img_to_draw = draw_bounding_boxes_on_image_array(\n",
        "        image=validation_digit,\n",
        "        boxes=predicted_bboxes,\n",
        "        color=['red'],\n",
        "        display_str_list=[\"pred\"]\n",
        "    )\n",
        "\n",
        "    ax.imshow(img_to_draw)\n",
        "    ax.axis('off')\n",
        "\n",
        "    plt.show()\n",
        "\n",
        "def upload_image():\n",
        "    uploaded = files.upload()  # Trigger the file upload dialog\n",
        "    for filename in uploaded.keys():\n",
        "        img = Image.open(BytesIO(uploaded[filename])).convert('L')\n",
        "        img = img.resize((75, 75))\n",
        "        img_array = np.array(img) / 255.0\n",
        "        return img_array\n",
        "\n",
        "def upload_model():\n",
        "    uploaded = files.upload()  # Trigger the file upload dialog for the model\n",
        "    for filename in uploaded.keys():\n",
        "        # Save the uploaded model to a local file\n",
        "        model_file_path = f\"/content/{filename}\"\n",
        "        with open(model_file_path, \"wb\") as f:\n",
        "            f.write(uploaded[filename])\n",
        "\n",
        "    return model_file_path\n",
        "\n",
        "# Upload the model manually\n",
        "display(Markdown(\"# UPLOAD MODEL : \"))\n",
        "model_file_path = upload_model()\n",
        "display(Markdown(\"---\"))\n",
        "\n",
        "# Load the trained model from the local file\n",
        "model = load_model(model_file_path)\n",
        "\n",
        "# Example usage (make sure to replace with actual data):\n",
        "display(Markdown(\"# UPLOAD Image : \"))\n",
        "validation_digit = upload_image()\n",
        "display(Markdown(\"---\"))\n",
        "\n",
        "# Reshape the image to match the expected input shape (1, 75, 75, 1)\n",
        "validation_digit = validation_digit.reshape(1, 75, 75, 1)\n",
        "\n",
        "# Model prediction\n",
        "predictions = model.predict(validation_digit)\n",
        "\n",
        "# Extract predicted labels (class predictions)\n",
        "predicted_labels = np.argmax(predictions[0], axis=1)\n",
        "\n",
        "# Extract predicted bounding boxes (assuming it's the second output of the model)\n",
        "predicted_bboxes = predictions[1]  # Should be of shape [num_boxes, 4]\n",
        "\n",
        "# Display the result\n",
        "display(Markdown(f\"---\"))\n",
        "display(Markdown(f\"## **Digit Label:** {predicted_labels[0]}\"))\n",
        "display_single_digit_with_predicted_bboxes(validation_digit[0], predicted_bboxes)"
      ],
      "metadata": {
        "colab": {
          "base_uri": "https://localhost:8080/",
          "height": 824
        },
        "id": "UR55wAm9kPYp",
        "outputId": "28c05fbc-84da-4de0-8ad3-ce0bd3a6e2bc"
      },
      "execution_count": null,
      "outputs": [
        {
          "output_type": "display_data",
          "data": {
            "text/plain": [
              "<IPython.core.display.Markdown object>"
            ],
            "text/markdown": "# UPLOAD MODEL : "
          },
          "metadata": {}
        },
        {
          "output_type": "display_data",
          "data": {
            "text/plain": [
              "<IPython.core.display.HTML object>"
            ],
            "text/html": [
              "\n",
              "     <input type=\"file\" id=\"files-5b36fb9d-c2ae-40bc-b535-c748004ec683\" name=\"files[]\" multiple disabled\n",
              "        style=\"border:none\" />\n",
              "     <output id=\"result-5b36fb9d-c2ae-40bc-b535-c748004ec683\">\n",
              "      Upload widget is only available when the cell has been executed in the\n",
              "      current browser session. Please rerun this cell to enable.\n",
              "      </output>\n",
              "      <script>// Copyright 2017 Google LLC\n",
              "//\n",
              "// Licensed under the Apache License, Version 2.0 (the \"License\");\n",
              "// you may not use this file except in compliance with the License.\n",
              "// You may obtain a copy of the License at\n",
              "//\n",
              "//      http://www.apache.org/licenses/LICENSE-2.0\n",
              "//\n",
              "// Unless required by applicable law or agreed to in writing, software\n",
              "// distributed under the License is distributed on an \"AS IS\" BASIS,\n",
              "// WITHOUT WARRANTIES OR CONDITIONS OF ANY KIND, either express or implied.\n",
              "// See the License for the specific language governing permissions and\n",
              "// limitations under the License.\n",
              "\n",
              "/**\n",
              " * @fileoverview Helpers for google.colab Python module.\n",
              " */\n",
              "(function(scope) {\n",
              "function span(text, styleAttributes = {}) {\n",
              "  const element = document.createElement('span');\n",
              "  element.textContent = text;\n",
              "  for (const key of Object.keys(styleAttributes)) {\n",
              "    element.style[key] = styleAttributes[key];\n",
              "  }\n",
              "  return element;\n",
              "}\n",
              "\n",
              "// Max number of bytes which will be uploaded at a time.\n",
              "const MAX_PAYLOAD_SIZE = 100 * 1024;\n",
              "\n",
              "function _uploadFiles(inputId, outputId) {\n",
              "  const steps = uploadFilesStep(inputId, outputId);\n",
              "  const outputElement = document.getElementById(outputId);\n",
              "  // Cache steps on the outputElement to make it available for the next call\n",
              "  // to uploadFilesContinue from Python.\n",
              "  outputElement.steps = steps;\n",
              "\n",
              "  return _uploadFilesContinue(outputId);\n",
              "}\n",
              "\n",
              "// This is roughly an async generator (not supported in the browser yet),\n",
              "// where there are multiple asynchronous steps and the Python side is going\n",
              "// to poll for completion of each step.\n",
              "// This uses a Promise to block the python side on completion of each step,\n",
              "// then passes the result of the previous step as the input to the next step.\n",
              "function _uploadFilesContinue(outputId) {\n",
              "  const outputElement = document.getElementById(outputId);\n",
              "  const steps = outputElement.steps;\n",
              "\n",
              "  const next = steps.next(outputElement.lastPromiseValue);\n",
              "  return Promise.resolve(next.value.promise).then((value) => {\n",
              "    // Cache the last promise value to make it available to the next\n",
              "    // step of the generator.\n",
              "    outputElement.lastPromiseValue = value;\n",
              "    return next.value.response;\n",
              "  });\n",
              "}\n",
              "\n",
              "/**\n",
              " * Generator function which is called between each async step of the upload\n",
              " * process.\n",
              " * @param {string} inputId Element ID of the input file picker element.\n",
              " * @param {string} outputId Element ID of the output display.\n",
              " * @return {!Iterable<!Object>} Iterable of next steps.\n",
              " */\n",
              "function* uploadFilesStep(inputId, outputId) {\n",
              "  const inputElement = document.getElementById(inputId);\n",
              "  inputElement.disabled = false;\n",
              "\n",
              "  const outputElement = document.getElementById(outputId);\n",
              "  outputElement.innerHTML = '';\n",
              "\n",
              "  const pickedPromise = new Promise((resolve) => {\n",
              "    inputElement.addEventListener('change', (e) => {\n",
              "      resolve(e.target.files);\n",
              "    });\n",
              "  });\n",
              "\n",
              "  const cancel = document.createElement('button');\n",
              "  inputElement.parentElement.appendChild(cancel);\n",
              "  cancel.textContent = 'Cancel upload';\n",
              "  const cancelPromise = new Promise((resolve) => {\n",
              "    cancel.onclick = () => {\n",
              "      resolve(null);\n",
              "    };\n",
              "  });\n",
              "\n",
              "  // Wait for the user to pick the files.\n",
              "  const files = yield {\n",
              "    promise: Promise.race([pickedPromise, cancelPromise]),\n",
              "    response: {\n",
              "      action: 'starting',\n",
              "    }\n",
              "  };\n",
              "\n",
              "  cancel.remove();\n",
              "\n",
              "  // Disable the input element since further picks are not allowed.\n",
              "  inputElement.disabled = true;\n",
              "\n",
              "  if (!files) {\n",
              "    return {\n",
              "      response: {\n",
              "        action: 'complete',\n",
              "      }\n",
              "    };\n",
              "  }\n",
              "\n",
              "  for (const file of files) {\n",
              "    const li = document.createElement('li');\n",
              "    li.append(span(file.name, {fontWeight: 'bold'}));\n",
              "    li.append(span(\n",
              "        `(${file.type || 'n/a'}) - ${file.size} bytes, ` +\n",
              "        `last modified: ${\n",
              "            file.lastModifiedDate ? file.lastModifiedDate.toLocaleDateString() :\n",
              "                                    'n/a'} - `));\n",
              "    const percent = span('0% done');\n",
              "    li.appendChild(percent);\n",
              "\n",
              "    outputElement.appendChild(li);\n",
              "\n",
              "    const fileDataPromise = new Promise((resolve) => {\n",
              "      const reader = new FileReader();\n",
              "      reader.onload = (e) => {\n",
              "        resolve(e.target.result);\n",
              "      };\n",
              "      reader.readAsArrayBuffer(file);\n",
              "    });\n",
              "    // Wait for the data to be ready.\n",
              "    let fileData = yield {\n",
              "      promise: fileDataPromise,\n",
              "      response: {\n",
              "        action: 'continue',\n",
              "      }\n",
              "    };\n",
              "\n",
              "    // Use a chunked sending to avoid message size limits. See b/62115660.\n",
              "    let position = 0;\n",
              "    do {\n",
              "      const length = Math.min(fileData.byteLength - position, MAX_PAYLOAD_SIZE);\n",
              "      const chunk = new Uint8Array(fileData, position, length);\n",
              "      position += length;\n",
              "\n",
              "      const base64 = btoa(String.fromCharCode.apply(null, chunk));\n",
              "      yield {\n",
              "        response: {\n",
              "          action: 'append',\n",
              "          file: file.name,\n",
              "          data: base64,\n",
              "        },\n",
              "      };\n",
              "\n",
              "      let percentDone = fileData.byteLength === 0 ?\n",
              "          100 :\n",
              "          Math.round((position / fileData.byteLength) * 100);\n",
              "      percent.textContent = `${percentDone}% done`;\n",
              "\n",
              "    } while (position < fileData.byteLength);\n",
              "  }\n",
              "\n",
              "  // All done.\n",
              "  yield {\n",
              "    response: {\n",
              "      action: 'complete',\n",
              "    }\n",
              "  };\n",
              "}\n",
              "\n",
              "scope.google = scope.google || {};\n",
              "scope.google.colab = scope.google.colab || {};\n",
              "scope.google.colab._files = {\n",
              "  _uploadFiles,\n",
              "  _uploadFilesContinue,\n",
              "};\n",
              "})(self);\n",
              "</script> "
            ]
          },
          "metadata": {}
        },
        {
          "output_type": "stream",
          "name": "stdout",
          "text": [
            "Saving model.h5 to model (3).h5\n"
          ]
        },
        {
          "output_type": "display_data",
          "data": {
            "text/plain": [
              "<IPython.core.display.Markdown object>"
            ],
            "text/markdown": "---"
          },
          "metadata": {}
        },
        {
          "output_type": "display_data",
          "data": {
            "text/plain": [
              "<IPython.core.display.Markdown object>"
            ],
            "text/markdown": "# UPLOAD Image : "
          },
          "metadata": {}
        },
        {
          "output_type": "display_data",
          "data": {
            "text/plain": [
              "<IPython.core.display.HTML object>"
            ],
            "text/html": [
              "\n",
              "     <input type=\"file\" id=\"files-ab850b75-78c0-4cbe-ad75-3dc746d59978\" name=\"files[]\" multiple disabled\n",
              "        style=\"border:none\" />\n",
              "     <output id=\"result-ab850b75-78c0-4cbe-ad75-3dc746d59978\">\n",
              "      Upload widget is only available when the cell has been executed in the\n",
              "      current browser session. Please rerun this cell to enable.\n",
              "      </output>\n",
              "      <script>// Copyright 2017 Google LLC\n",
              "//\n",
              "// Licensed under the Apache License, Version 2.0 (the \"License\");\n",
              "// you may not use this file except in compliance with the License.\n",
              "// You may obtain a copy of the License at\n",
              "//\n",
              "//      http://www.apache.org/licenses/LICENSE-2.0\n",
              "//\n",
              "// Unless required by applicable law or agreed to in writing, software\n",
              "// distributed under the License is distributed on an \"AS IS\" BASIS,\n",
              "// WITHOUT WARRANTIES OR CONDITIONS OF ANY KIND, either express or implied.\n",
              "// See the License for the specific language governing permissions and\n",
              "// limitations under the License.\n",
              "\n",
              "/**\n",
              " * @fileoverview Helpers for google.colab Python module.\n",
              " */\n",
              "(function(scope) {\n",
              "function span(text, styleAttributes = {}) {\n",
              "  const element = document.createElement('span');\n",
              "  element.textContent = text;\n",
              "  for (const key of Object.keys(styleAttributes)) {\n",
              "    element.style[key] = styleAttributes[key];\n",
              "  }\n",
              "  return element;\n",
              "}\n",
              "\n",
              "// Max number of bytes which will be uploaded at a time.\n",
              "const MAX_PAYLOAD_SIZE = 100 * 1024;\n",
              "\n",
              "function _uploadFiles(inputId, outputId) {\n",
              "  const steps = uploadFilesStep(inputId, outputId);\n",
              "  const outputElement = document.getElementById(outputId);\n",
              "  // Cache steps on the outputElement to make it available for the next call\n",
              "  // to uploadFilesContinue from Python.\n",
              "  outputElement.steps = steps;\n",
              "\n",
              "  return _uploadFilesContinue(outputId);\n",
              "}\n",
              "\n",
              "// This is roughly an async generator (not supported in the browser yet),\n",
              "// where there are multiple asynchronous steps and the Python side is going\n",
              "// to poll for completion of each step.\n",
              "// This uses a Promise to block the python side on completion of each step,\n",
              "// then passes the result of the previous step as the input to the next step.\n",
              "function _uploadFilesContinue(outputId) {\n",
              "  const outputElement = document.getElementById(outputId);\n",
              "  const steps = outputElement.steps;\n",
              "\n",
              "  const next = steps.next(outputElement.lastPromiseValue);\n",
              "  return Promise.resolve(next.value.promise).then((value) => {\n",
              "    // Cache the last promise value to make it available to the next\n",
              "    // step of the generator.\n",
              "    outputElement.lastPromiseValue = value;\n",
              "    return next.value.response;\n",
              "  });\n",
              "}\n",
              "\n",
              "/**\n",
              " * Generator function which is called between each async step of the upload\n",
              " * process.\n",
              " * @param {string} inputId Element ID of the input file picker element.\n",
              " * @param {string} outputId Element ID of the output display.\n",
              " * @return {!Iterable<!Object>} Iterable of next steps.\n",
              " */\n",
              "function* uploadFilesStep(inputId, outputId) {\n",
              "  const inputElement = document.getElementById(inputId);\n",
              "  inputElement.disabled = false;\n",
              "\n",
              "  const outputElement = document.getElementById(outputId);\n",
              "  outputElement.innerHTML = '';\n",
              "\n",
              "  const pickedPromise = new Promise((resolve) => {\n",
              "    inputElement.addEventListener('change', (e) => {\n",
              "      resolve(e.target.files);\n",
              "    });\n",
              "  });\n",
              "\n",
              "  const cancel = document.createElement('button');\n",
              "  inputElement.parentElement.appendChild(cancel);\n",
              "  cancel.textContent = 'Cancel upload';\n",
              "  const cancelPromise = new Promise((resolve) => {\n",
              "    cancel.onclick = () => {\n",
              "      resolve(null);\n",
              "    };\n",
              "  });\n",
              "\n",
              "  // Wait for the user to pick the files.\n",
              "  const files = yield {\n",
              "    promise: Promise.race([pickedPromise, cancelPromise]),\n",
              "    response: {\n",
              "      action: 'starting',\n",
              "    }\n",
              "  };\n",
              "\n",
              "  cancel.remove();\n",
              "\n",
              "  // Disable the input element since further picks are not allowed.\n",
              "  inputElement.disabled = true;\n",
              "\n",
              "  if (!files) {\n",
              "    return {\n",
              "      response: {\n",
              "        action: 'complete',\n",
              "      }\n",
              "    };\n",
              "  }\n",
              "\n",
              "  for (const file of files) {\n",
              "    const li = document.createElement('li');\n",
              "    li.append(span(file.name, {fontWeight: 'bold'}));\n",
              "    li.append(span(\n",
              "        `(${file.type || 'n/a'}) - ${file.size} bytes, ` +\n",
              "        `last modified: ${\n",
              "            file.lastModifiedDate ? file.lastModifiedDate.toLocaleDateString() :\n",
              "                                    'n/a'} - `));\n",
              "    const percent = span('0% done');\n",
              "    li.appendChild(percent);\n",
              "\n",
              "    outputElement.appendChild(li);\n",
              "\n",
              "    const fileDataPromise = new Promise((resolve) => {\n",
              "      const reader = new FileReader();\n",
              "      reader.onload = (e) => {\n",
              "        resolve(e.target.result);\n",
              "      };\n",
              "      reader.readAsArrayBuffer(file);\n",
              "    });\n",
              "    // Wait for the data to be ready.\n",
              "    let fileData = yield {\n",
              "      promise: fileDataPromise,\n",
              "      response: {\n",
              "        action: 'continue',\n",
              "      }\n",
              "    };\n",
              "\n",
              "    // Use a chunked sending to avoid message size limits. See b/62115660.\n",
              "    let position = 0;\n",
              "    do {\n",
              "      const length = Math.min(fileData.byteLength - position, MAX_PAYLOAD_SIZE);\n",
              "      const chunk = new Uint8Array(fileData, position, length);\n",
              "      position += length;\n",
              "\n",
              "      const base64 = btoa(String.fromCharCode.apply(null, chunk));\n",
              "      yield {\n",
              "        response: {\n",
              "          action: 'append',\n",
              "          file: file.name,\n",
              "          data: base64,\n",
              "        },\n",
              "      };\n",
              "\n",
              "      let percentDone = fileData.byteLength === 0 ?\n",
              "          100 :\n",
              "          Math.round((position / fileData.byteLength) * 100);\n",
              "      percent.textContent = `${percentDone}% done`;\n",
              "\n",
              "    } while (position < fileData.byteLength);\n",
              "  }\n",
              "\n",
              "  // All done.\n",
              "  yield {\n",
              "    response: {\n",
              "      action: 'complete',\n",
              "    }\n",
              "  };\n",
              "}\n",
              "\n",
              "scope.google = scope.google || {};\n",
              "scope.google.colab = scope.google.colab || {};\n",
              "scope.google.colab._files = {\n",
              "  _uploadFiles,\n",
              "  _uploadFilesContinue,\n",
              "};\n",
              "})(self);\n",
              "</script> "
            ]
          },
          "metadata": {}
        },
        {
          "output_type": "stream",
          "name": "stdout",
          "text": [
            "Saving temp.png to temp (10).png\n"
          ]
        },
        {
          "output_type": "display_data",
          "data": {
            "text/plain": [
              "<IPython.core.display.Markdown object>"
            ],
            "text/markdown": "---"
          },
          "metadata": {}
        },
        {
          "output_type": "stream",
          "name": "stdout",
          "text": [
            "1/1 [==============================] - 0s 86ms/step\n"
          ]
        },
        {
          "output_type": "display_data",
          "data": {
            "text/plain": [
              "<IPython.core.display.Markdown object>"
            ],
            "text/markdown": "---"
          },
          "metadata": {}
        },
        {
          "output_type": "display_data",
          "data": {
            "text/plain": [
              "<IPython.core.display.Markdown object>"
            ],
            "text/markdown": "## **Digit Label:** 2"
          },
          "metadata": {}
        },
        {
          "output_type": "display_data",
          "data": {
            "text/plain": [
              "<Figure size 600x600 with 1 Axes>"
            ],
            "image/png": "[encoded data removed]"
          },
          "metadata": {}
        }
      ]
    }
  ]
}